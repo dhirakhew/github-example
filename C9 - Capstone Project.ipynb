{
 "cells": [
  {
   "cell_type": "markdown",
   "metadata": {},
   "source": [
    "# Battle of the Neighborhoods. Capstone Project"
   ]
  },
  {
   "cell_type": "markdown",
   "metadata": {},
   "source": [
    "## I. Introduction & Business Problem"
   ]
  },
  {
   "cell_type": "markdown",
   "metadata": {},
   "source": [
    "When an individual lives in a diverse and physically large country like Canada, one is bound to move from one city to another. Either at the personal level as one searches/move for jobs or at the business level where a restaurant might be interested in opening a branch in another city. These individuals or entities would be interested in neighborhoods that are similar to each other between the two cities.\n",
    "\n",
    "**Business Problem:** How can we find a similar neighborhood in another city from our own?"
   ]
  },
  {
   "cell_type": "markdown",
   "metadata": {},
   "source": [
    "## II. Data"
   ]
  },
  {
   "cell_type": "markdown",
   "metadata": {},
   "source": [
    "To address this business problem and create a proof of concept solution, we will be interested in Toronto Neighborhoods and their similar neighborhoods in Vancouver. Geographically, they are quite far apart where Toronto can be considered to be on the East Coast of continental North America and Vancouver is on the West Coast.\n",
    "\n",
    "**List of Neighborhoods:** Similar to the Toronto Lab, we will be obtaining a complete list of neighborhoods for the the two cities using first **Wikipedia**.\n",
    "\n",
    "**Geo Location:** Using the geopy library, we would be able to join the list of neighborhoods to their respective cordinates.\n",
    "\n",
    "**Foursquare API:** Then using the Foursquare API will we be able to obtain the characteristics and data on each neighborhood. Then the data will be joined with the list of neighborhood. This final dataset will be used for K-means clustering of neighborhoods to find clusters--groups of similar neighborhoods."
   ]
  },
  {
   "cell_type": "code",
   "execution_count": null,
   "metadata": {},
   "outputs": [],
   "source": []
  }
 ],
 "metadata": {
  "kernelspec": {
   "display_name": "Python",
   "language": "python",
   "name": "conda-env-python-py"
  },
  "language_info": {
   "codemirror_mode": {
    "name": "ipython",
    "version": 3
   },
   "file_extension": ".py",
   "mimetype": "text/x-python",
   "name": "python",
   "nbconvert_exporter": "python",
   "pygments_lexer": "ipython3",
   "version": "3.6.10"
  }
 },
 "nbformat": 4,
 "nbformat_minor": 4
}
